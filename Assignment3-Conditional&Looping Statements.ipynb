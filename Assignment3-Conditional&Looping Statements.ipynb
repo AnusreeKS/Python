{
 "cells": [
  {
   "cell_type": "markdown",
   "id": "5af913bc-80cc-4154-9cbb-8fcde917e9e9",
   "metadata": {},
   "source": [
    "## Excercise 1"
   ]
  },
  {
   "cell_type": "code",
   "execution_count": 43,
   "id": "ded01ab9-2dda-4ffb-8f48-b1bc473332fa",
   "metadata": {},
   "outputs": [
    {
     "name": "stdin",
     "output_type": "stream",
     "text": [
      "Enter a number between 1 and 12 : 4\n"
     ]
    },
    {
     "name": "stdout",
     "output_type": "stream",
     "text": [
      "Month corresponding to 4 is : April\n"
     ]
    }
   ],
   "source": [
    "num=int(input(\"Enter a number between 1 and 12 :\"))\n",
    "if num<1 or num>12:\n",
    "    print(\"Enter a valid number between 1 and 12.\")\n",
    "else :    \n",
    "    months=[\"January\",\"February\",\"March\",\"April\",\"May\",\"June\",\"July\",\"August\",\"September\",\"October\",\"November\",\"December\"]\n",
    "    if  num >=1 or num<=12 :\n",
    "        print(f\"Month corresponding to {num} is : {months[num-1]}\")\n"
   ]
  },
  {
   "cell_type": "markdown",
   "id": "9d7eeba8-b262-41a6-8fb8-077adae17d86",
   "metadata": {},
   "source": [
    "## Excercise 2"
   ]
  },
  {
   "cell_type": "code",
   "execution_count": 61,
   "id": "c82451e9-684b-4598-87d3-bb4216cf8de0",
   "metadata": {},
   "outputs": [
    {
     "name": "stdin",
     "output_type": "stream",
     "text": [
      "Enter your age : 67\n"
     ]
    },
    {
     "name": "stdout",
     "output_type": "stream",
     "text": [
      "Your ticket costs £2.0 \n"
     ]
    }
   ],
   "source": [
    "ticket = 6.0\n",
    "age=int(input(\"Enter your age :\"))\n",
    "if age >=60:\n",
    "    ticket/=3\n",
    "if age<16 :\n",
    "    ticket/=2\n",
    "print(f\"Your ticket costs £{ticket} \")\n",
    "  "
   ]
  },
  {
   "cell_type": "markdown",
   "id": "0a88b9dc-ba8f-4a17-8583-104d1577384e",
   "metadata": {},
   "source": [
    "## Excercise 3"
   ]
  },
  {
   "cell_type": "code",
   "execution_count": 118,
   "id": "864a6194-9f76-4793-bf35-348a82f2d3a9",
   "metadata": {},
   "outputs": [
    {
     "name": "stdin",
     "output_type": "stream",
     "text": [
      "Enter height in (m):  1.67\n",
      "Enter weight in (kg):  83\n"
     ]
    },
    {
     "name": "stdout",
     "output_type": "stream",
     "text": [
      "Your Body Mass Index(BMI) is : 29.760837606224676\n",
      "According to BMI you come under the OVERWEIGHT category\n"
     ]
    }
   ],
   "source": [
    "while True:\n",
    "    height = float(input(\"Enter height in (m): \"))\n",
    "    if height <= 0:\n",
    "        print(\"Invalid height! Please enter a valid height in meters (greater than 0).\")\n",
    "    else:\n",
    "        break\n",
    "while True:\n",
    "    weight = float(input(\"Enter weight in (kg): \"))\n",
    "    if weight <= 0:\n",
    "        print(\"Invalid weight! Please enter a valid height in meters (greater than 0).\")\n",
    "    else:\n",
    "        break\n",
    "\n",
    "bmi= weight/height**2\n",
    "print(\"Your Body Mass Index(BMI) is :\",bmi)\n",
    "if bmi <18.5:\n",
    "    status=\"UNDERWEIGHT\"\n",
    "elif 18.5 <= bmi <= 24.9:\n",
    "    status=\"NORMAL\"\n",
    "elif 25 <= bmi <= 29.9:\n",
    "    status=\"OVERWEIGHT\"\n",
    "else:\n",
    "    status=\"OBESE\"\n",
    "print(f\"According to BMI you come under the {status} category\")"
   ]
  },
  {
   "cell_type": "markdown",
   "id": "2ce5d5b9-7bc7-415c-8843-680f6b2eccd2",
   "metadata": {},
   "source": [
    "## Excercise 4"
   ]
  },
  {
   "cell_type": "code",
   "execution_count": 158,
   "id": "264a4fff-bb4d-4e97-a692-3416e0230987",
   "metadata": {},
   "outputs": [
    {
     "name": "stdin",
     "output_type": "stream",
     "text": [
      "Enter number 1 : 56\n",
      "Enter number 2 : 56\n",
      "Enter number 3 : 32\n"
     ]
    },
    {
     "name": "stdout",
     "output_type": "stream",
     "text": [
      "The list of nymbers is : ['56', '56', '32']\n",
      "The greatest number in the list is : 56\n"
     ]
    }
   ],
   "source": [
    "list=[]\n",
    "i=0\n",
    "while i<3:\n",
    "    list.append(input(f\"Enter number {i+1} :\")) \n",
    "    i+=1\n",
    "print(\"The list of nymbers is :\",list)\n",
    "print(\"The greatest number in the list is :\",max(list))\n"
   ]
  },
  {
   "cell_type": "markdown",
   "id": "d660e3c0-5fb4-473a-be93-2be90179601e",
   "metadata": {},
   "source": [
    "## Excercise 5"
   ]
  },
  {
   "cell_type": "code",
   "execution_count": 195,
   "id": "136b870e-f835-4bad-8240-2963d027ede4",
   "metadata": {},
   "outputs": [
    {
     "name": "stdin",
     "output_type": "stream",
     "text": [
      "Enter the number: 12\n"
     ]
    },
    {
     "name": "stdout",
     "output_type": "stream",
     "text": [
      "Factorial of 12 is 479001600.\n"
     ]
    }
   ],
   "source": [
    "num=int(input(\"Enter the number:\"))\n",
    "if num<0:\n",
    "    print(\"Negative numbers dont have factorials!!\")\n",
    "else :    \n",
    "    factorial=1\n",
    "    if num>1:\n",
    "        for i in range(1,num+1):\n",
    "            factorial*=i \n",
    "    print(f\"Factorial of {num} is {factorial}.\")    "
   ]
  },
  {
   "cell_type": "markdown",
   "id": "bf252a40-d9e4-4d58-a3ad-148fc72add60",
   "metadata": {},
   "source": [
    "## Excercise 6"
   ]
  },
  {
   "cell_type": "code",
   "execution_count": 210,
   "id": "fefcae85-6116-45f6-825f-dabe681bb571",
   "metadata": {},
   "outputs": [
    {
     "name": "stdin",
     "output_type": "stream",
     "text": [
      "Enter a number:  45632\n"
     ]
    },
    {
     "name": "stdout",
     "output_type": "stream",
     "text": [
      "The reversed number corresponding to 45632 is : 23654\n"
     ]
    }
   ],
   "source": [
    "num = int(input(\"Enter a number: \"))\n",
    "if num < 0:\n",
    "    print(\"Enter a valid number!!\")\n",
    "num1=num\n",
    "rev_num = 0\n",
    "\n",
    "while num > 0:\n",
    "    digit = num % 10\n",
    "    rev_num = rev_num * 10 + digit\n",
    "    num //= 10                        # //is the floor operator\n",
    "\n",
    "print(f\"The reversed number corresponding to {num1} is : {rev_num}\")"
   ]
  },
  {
   "cell_type": "markdown",
   "id": "5c4695b3-b8e9-45e2-ba82-2739da410820",
   "metadata": {},
   "source": [
    "## Excercise 7"
   ]
  },
  {
   "cell_type": "code",
   "execution_count": 218,
   "id": "8aa5529d-7125-4ece-929d-8e71bed55ae9",
   "metadata": {},
   "outputs": [
    {
     "name": "stdin",
     "output_type": "stream",
     "text": [
      "Enter the number : 4\n",
      "Enter the range limit : 6\n"
     ]
    },
    {
     "name": "stdout",
     "output_type": "stream",
     "text": [
      "6 multiples of 4 are :\n",
      "4\n",
      "8\n",
      "12\n",
      "16\n",
      "20\n",
      "24\n"
     ]
    }
   ],
   "source": [
    "num=int(input(\"Enter the number :\"))\n",
    "limit=int(input(\"Enter the range limit :\"))\n",
    "print(f\"{limit} multiples of {num} are :\")\n",
    "for i in range(1,limit+1):\n",
    "    print(num*i)\n",
    "    \n",
    "\n"
   ]
  },
  {
   "cell_type": "markdown",
   "id": "34de98d5-4fda-4dd6-acaa-5e46ddb70678",
   "metadata": {},
   "source": [
    "## Excercise 8"
   ]
  },
  {
   "cell_type": "code",
   "execution_count": 224,
   "id": "484be333-13a7-4dad-9395-872014b7e251",
   "metadata": {},
   "outputs": [
    {
     "name": "stdin",
     "output_type": "stream",
     "text": [
      "Enter youe input : Hello\n"
     ]
    },
    {
     "name": "stdout",
     "output_type": "stream",
     "text": [
      "Hello\n"
     ]
    },
    {
     "name": "stdin",
     "output_type": "stream",
     "text": [
      "Enter youe input : Anusree\n"
     ]
    },
    {
     "name": "stdout",
     "output_type": "stream",
     "text": [
      "Anusree\n"
     ]
    },
    {
     "name": "stdin",
     "output_type": "stream",
     "text": [
      "Enter youe input : DoNe\n"
     ]
    },
    {
     "name": "stdout",
     "output_type": "stream",
     "text": [
      "DoNe\n"
     ]
    }
   ],
   "source": [
    "while True:\n",
    "    val=input(\"Enter youe input :\")\n",
    "    if val.casefold()==\"done\":        # casefold() is used to perform case-insensitive string comparison\n",
    "        print(val)\n",
    "        break\n",
    "    print(val)"
   ]
  },
  {
   "cell_type": "markdown",
   "id": "a670f3df-57a1-4619-a37b-faf63daf0eb9",
   "metadata": {},
   "source": [
    "## Excercise 9"
   ]
  },
  {
   "cell_type": "code",
   "execution_count": 237,
   "id": "c96b4b5d-56e8-48c5-8116-bd9c797d2a05",
   "metadata": {},
   "outputs": [
    {
     "name": "stdout",
     "output_type": "stream",
     "text": [
      "1\n",
      "2\n",
      "Fizz\n",
      "4\n",
      "Buzz\n",
      "Fizz\n",
      "7\n",
      "8\n",
      "Fizz\n",
      "Buzz\n"
     ]
    }
   ],
   "source": [
    "for i in range(1,11):\n",
    "    if i%3==0 and i%5==0 :\n",
    "        print(\"FizzBuzz\")\n",
    "    elif i%3==0:\n",
    "        print(\"Fizz\")\n",
    "    elif i%5==0:\n",
    "        print(\"Buzz\")\n",
    "    else:\n",
    "        print(i)"
   ]
  },
  {
   "cell_type": "markdown",
   "id": "dc00aea4-8f32-4208-9d48-c77762c2d88f",
   "metadata": {},
   "source": [
    "## Excercise 10"
   ]
  },
  {
   "cell_type": "code",
   "execution_count": 260,
   "id": "f04973cf-9ac7-4e4a-b8f1-57723b73fcb6",
   "metadata": {},
   "outputs": [
    {
     "name": "stdout",
     "output_type": "stream",
     "text": [
      "The required series is :\n",
      "5 4 3 2 1 4 3 2 1 3 2 1 2 1 1 "
     ]
    }
   ],
   "source": [
    "num=5\n",
    "print(\"The required series is :\")\n",
    "while num>0:\n",
    "    for i in range(num,0,-1):\n",
    "        print(i, end=\" \")\n",
    "    num-=1"
   ]
  },
  {
   "cell_type": "markdown",
   "id": "88e21298-77ac-4ac2-ad42-cdb5799af6b4",
   "metadata": {},
   "source": [
    "### Another way of printing the output series"
   ]
  },
  {
   "cell_type": "code",
   "execution_count": 258,
   "id": "a4e2f2ad-9347-4a54-a62d-b1fae8a7e705",
   "metadata": {},
   "outputs": [
    {
     "name": "stdout",
     "output_type": "stream",
     "text": [
      "The required series is :\n",
      "5 4 3 2 1 \n",
      "4 3 2 1 \n",
      "3 2 1 \n",
      "2 1 \n",
      "1 \n"
     ]
    }
   ],
   "source": [
    "num=5\n",
    "print(\"The required series is :\")\n",
    "while num>0:\n",
    "    for i in range(num,0,-1):\n",
    "        print(i, end=\" \")\n",
    "    print()\n",
    "    num-=1"
   ]
  },
  {
   "cell_type": "code",
   "execution_count": null,
   "id": "344eafac-169b-4cb5-b489-b2fa514cbe4f",
   "metadata": {},
   "outputs": [],
   "source": []
  }
 ],
 "metadata": {
  "kernelspec": {
   "display_name": "Python 3 (ipykernel)",
   "language": "python",
   "name": "python3"
  },
  "language_info": {
   "codemirror_mode": {
    "name": "ipython",
    "version": 3
   },
   "file_extension": ".py",
   "mimetype": "text/x-python",
   "name": "python",
   "nbconvert_exporter": "python",
   "pygments_lexer": "ipython3",
   "version": "3.12.4"
  }
 },
 "nbformat": 4,
 "nbformat_minor": 5
}
