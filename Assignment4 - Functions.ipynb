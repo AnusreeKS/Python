{
 "cells": [
  {
   "cell_type": "markdown",
   "id": "98b007f6-f858-48b2-bca1-dafbcc963502",
   "metadata": {},
   "source": [
    "# Assignment 5 - Functions"
   ]
  },
  {
   "cell_type": "markdown",
   "id": "96bb441d-030a-4d9e-b477-60207ccd0ae8",
   "metadata": {},
   "source": [
    "## The len() function in Python return the number of elements in an object, which can be a string, list, tuple, set, dictionary etc."
   ]
  },
  {
   "cell_type": "markdown",
   "id": "bccf45b0-1eb3-4be5-939f-ec7e111f2c78",
   "metadata": {},
   "source": [
    "### 1. To find the length of a list using len() function"
   ]
  },
  {
   "cell_type": "code",
   "execution_count": 5,
   "id": "1847bde4-2b0e-449f-bae2-fd75e72ec0f7",
   "metadata": {},
   "outputs": [
    {
     "name": "stdout",
     "output_type": "stream",
     "text": [
      "The length of list, age is :6\n"
     ]
    }
   ],
   "source": [
    "age=[4,7,32,38,65,75]\n",
    "print(f\"The length of list, age is :{len(age)}\")"
   ]
  },
  {
   "cell_type": "code",
   "execution_count": 9,
   "id": "0e1ff048-a586-412c-98cc-90b2305c73f5",
   "metadata": {},
   "outputs": [
    {
     "name": "stdout",
     "output_type": "stream",
     "text": [
      "The length of the list, name is : 4\n"
     ]
    }
   ],
   "source": [
    "name=[\"Aradhya\",\"Ameya\",\"Anusree\",\"Sudeesh\"]\n",
    "print(\"The length of the list, name is :\",len(name))"
   ]
  },
  {
   "cell_type": "markdown",
   "id": "d15cc762-88db-49e3-9134-1096f1c55005",
   "metadata": {},
   "source": [
    "### 2. Write a Python function greet(name) that takes a person's name as input and prints \"Hello, [name]!\""
   ]
  },
  {
   "cell_type": "code",
   "execution_count": 14,
   "id": "8cf9b5d3-b314-499d-ba24-73df98fbd071",
   "metadata": {},
   "outputs": [
    {
     "name": "stdout",
     "output_type": "stream",
     "text": [
      "Hello, Anusree\n"
     ]
    }
   ],
   "source": [
    "def greet(name):\n",
    "    print(f\"Hello, {name}\")\n",
    "greet(\"Anusree\")"
   ]
  },
  {
   "cell_type": "markdown",
   "id": "37561cda-8f6e-40dd-acae-3a7c52672ddc",
   "metadata": {},
   "source": [
    "### 3.Function to find the maximum value in a list without using max()"
   ]
  },
  {
   "cell_type": "code",
   "execution_count": 15,
   "id": "2047e243-d582-4adf-b335-d718ee344a71",
   "metadata": {},
   "outputs": [
    {
     "name": "stdout",
     "output_type": "stream",
     "text": [
      "Enter integer values:(type 'done' to finish):\n"
     ]
    },
    {
     "name": "stdin",
     "output_type": "stream",
     "text": [
      "Enter a number:  45\n",
      "Enter a number:  67\n",
      "Enter a number:  121\n",
      "Enter a number:  98\n",
      "Enter a number:  99\n",
      "Enter a number:  done\n"
     ]
    },
    {
     "name": "stdout",
     "output_type": "stream",
     "text": [
      "\n",
      "Your list is: [45, 67, 121, 98, 99]\n",
      "The maximum number from the list is : 121\n"
     ]
    }
   ],
   "source": [
    "list1 = []\n",
    "\n",
    "print(\"Enter integer values:(type 'done' to finish):\")\n",
    "\n",
    "while True:\n",
    "    user_input = input(\"Enter a number: \") \n",
    "    \n",
    "    if user_input.lower() == \"done\":  \n",
    "        break\n",
    "\n",
    "    try:\n",
    "        number = int(user_input)  # Convert input to an integer\n",
    "        list1.append(number)   # Add to the list if successful\n",
    "    except ValueError:\n",
    "        print(\"Invalid input! Please enter an integer.\")\n",
    "\n",
    "print(\"\\nYour list is:\", list1)\n",
    "\n",
    "def max_list(list):\n",
    "    if not list:\n",
    "        return print(\"Enter a number list\")\n",
    "    max=0\n",
    "    l=len(list)\n",
    "    for i in range(0,l):\n",
    "        if list[i]>=max :\n",
    "            max=list[i]\n",
    "    return max\n",
    "\n",
    "maximum=max_list(list1)\n",
    "print(f\"The maximum number from the list is : {maximum}\")"
   ]
  },
  {
   "cell_type": "markdown",
   "id": "5768e978-4aa5-4379-b37e-cf0e19f14673",
   "metadata": {},
   "source": [
    "### 4. Write a program where a global variable and a local variable have the same name and show how Python differentiates between them."
   ]
  },
  {
   "cell_type": "markdown",
   "id": "b7096378-65fe-4028-8ebe-74818be4a779",
   "metadata": {},
   "source": [
    "### 1. Local Variables:\n",
    "#### In Python, local variabls are defined inside a function and can only be accessed within that function. They are created when the function is called and destroyed when the function ends.\n",
    "### 2. Global Variables: \n",
    "#### Global variables are declared outside any function and can be accessed anywhere in the script. Their values persist throughout the execution of the program."
   ]
  },
  {
   "cell_type": "code",
   "execution_count": 80,
   "id": "7d80012c-2673-4752-92fd-c7e4886548c3",
   "metadata": {},
   "outputs": [
    {
     "name": "stdout",
     "output_type": "stream",
     "text": [
      "Inside the function,  I am a Local variable\n",
      "Outside the function, I am a Global Variable\n"
     ]
    }
   ],
   "source": [
    "var = \"I am a Global Variable\"\n",
    "\n",
    "def variablescope():\n",
    "    var=\"I am a Local variable\"     # same name var as the global variable\n",
    "    print(\"Inside the function, \",var)\n",
    "    \n",
    "variablescope()\n",
    "print(\"Outside the function,\",var)"
   ]
  },
  {
   "cell_type": "markdown",
   "id": "9c4b94b5-025c-4273-a238-ed4c18bbc675",
   "metadata": {},
   "source": [
    "## 5.Function to calculate the area of a rectangle with a default width of 5"
   ]
  },
  {
   "cell_type": "code",
   "execution_count": 85,
   "id": "9499f6fd-f283-4877-9cda-d38711db206c",
   "metadata": {},
   "outputs": [
    {
     "name": "stdout",
     "output_type": "stream",
     "text": [
      "Area with both arguments: 40\n",
      "Area with default width: 60\n"
     ]
    }
   ],
   "source": [
    "def calculate_area(length, width=5):\n",
    "    return length * width\n",
    "\n",
    "print(\"Area with both arguments:\", calculate_area(10, 4))  \n",
    "print(\"Area with default width:\", calculate_area(10))  \n"
   ]
  },
  {
   "cell_type": "code",
   "execution_count": null,
   "id": "d9a8f96e-3b8b-4201-9580-903ac2a4637c",
   "metadata": {},
   "outputs": [],
   "source": []
  }
 ],
 "metadata": {
  "kernelspec": {
   "display_name": "Python 3 (ipykernel)",
   "language": "python",
   "name": "python3"
  },
  "language_info": {
   "codemirror_mode": {
    "name": "ipython",
    "version": 3
   },
   "file_extension": ".py",
   "mimetype": "text/x-python",
   "name": "python",
   "nbconvert_exporter": "python",
   "pygments_lexer": "ipython3",
   "version": "3.12.4"
  }
 },
 "nbformat": 4,
 "nbformat_minor": 5
}
