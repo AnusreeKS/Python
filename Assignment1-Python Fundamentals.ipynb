{
 "cells": [
  {
   "cell_type": "markdown",
   "id": "6ed23591-e038-4e03-a35b-1c76f9f21f3a",
   "metadata": {},
   "source": [
    "# Python Fundamentals"
   ]
  },
  {
   "cell_type": "markdown",
   "id": "da10ecd2-e4bd-4997-9928-3beb5fd12870",
   "metadata": {},
   "source": [
    "## Excercise 1"
   ]
  },
  {
   "cell_type": "code",
   "execution_count": 5,
   "id": "31a09934-ee9d-48a5-8e61-a7a52b35a1fd",
   "metadata": {},
   "outputs": [
    {
     "name": "stdout",
     "output_type": "stream",
     "text": [
      "My name is Anusree\n",
      "Student Number: ST0016\n",
      "Email Id : ksanusree92@gmail.com\n"
     ]
    }
   ],
   "source": [
    "print(\"My name is Anusree\")\n",
    "print(\"Student Number: ST0016\")\n",
    "print(\"Email Id : ksanusree92@gmail.com\")"
   ]
  },
  {
   "cell_type": "markdown",
   "id": "8325fc04-7635-4263-8c74-98c866e2a7b6",
   "metadata": {},
   "source": [
    "## Excercise 2"
   ]
  },
  {
   "cell_type": "code",
   "execution_count": 9,
   "id": "686cdeab-b523-48f6-ab0f-88ab71f8c3ea",
   "metadata": {},
   "outputs": [
    {
     "name": "stdout",
     "output_type": "stream",
     "text": [
      "My name is Anusree \n",
      "Student Number: ST0016 \n",
      "Email Id : ksanusree92@gmail.com\n"
     ]
    }
   ],
   "source": [
    "print(\"My name is Anusree \\nStudent Number: ST0016 \\nEmail Id : ksanusree92@gmail.com\")"
   ]
  },
  {
   "cell_type": "markdown",
   "id": "2b22d15f-407c-4de8-8518-731c8df00551",
   "metadata": {},
   "source": [
    "## Excercise 3\n"
   ]
  },
  {
   "cell_type": "code",
   "execution_count": 16,
   "id": "6d4f984a-516c-4469-8fbb-93087dbf4492",
   "metadata": {},
   "outputs": [
    {
     "name": "stdout",
     "output_type": "stream",
     "text": [
      "The sum of 14 and 7 is :  21\n",
      "The difference of 14 and 7 is :  7\n",
      "The product of 14 and 7 is :  98\n",
      "The result of dividing 14 and 7 is : 2.0\n",
      "The reminder when we divide 14 and 7 is :  0\n"
     ]
    }
   ],
   "source": [
    "a=14\n",
    "b=7\n",
    "print (f\"The sum of {a} and {b} is : \", a+b)\n",
    "print (f\"The difference of {a} and {b} is : \", a-b)\n",
    "print (f\"The product of {a} and {b} is : \", a*b)\n",
    "print (f\"The result of dividing {a} and {b} is :\", a/b)\n",
    "print (f\"The reminder when we divide {a} and {b} is : \", a%b)"
   ]
  },
  {
   "cell_type": "markdown",
   "id": "d10210b5-20d4-45e9-a0ce-40f2083b41d7",
   "metadata": {},
   "source": [
    "## Excercise 4"
   ]
  },
  {
   "cell_type": "code",
   "execution_count": 21,
   "id": "b33a0c74-fec2-4b65-b2b1-08394d414e43",
   "metadata": {},
   "outputs": [
    {
     "name": "stdout",
     "output_type": "stream",
     "text": [
      "1\n",
      "2\n",
      "3\n",
      "4\n",
      "5\n"
     ]
    }
   ],
   "source": [
    "for i in range(1,6) :\n",
    "    print(i)"
   ]
  },
  {
   "cell_type": "markdown",
   "id": "a0778fa2-f250-4bdb-b894-972772615eeb",
   "metadata": {},
   "source": [
    "## Excercise 5"
   ]
  },
  {
   "cell_type": "code",
   "execution_count": 144,
   "id": "86e0fe96-72d3-4631-865b-f8e5f79b19ed",
   "metadata": {},
   "outputs": [
    {
     "name": "stdout",
     "output_type": "stream",
     "text": [
      "\"SDK\" stands for \"Software Development Kit\", whereas \n",
      " \"IDE\" stands for \"Integrated Development Environment\".\n"
     ]
    }
   ],
   "source": [
    "print(\"\\\"SDK\\\" stands for \\\"Software Development Kit\\\", whereas \\n \\\"IDE\\\" stands for \\\"Integrated Development Environment\\\".\")"
   ]
  },
  {
   "cell_type": "markdown",
   "id": "83fac3fd-2751-4fd3-b4ef-df88eae88e69",
   "metadata": {},
   "source": [
    "## Excercise 6"
   ]
  },
  {
   "cell_type": "code",
   "execution_count": 61,
   "id": "84a92b0a-8b12-43de-935e-e8db7f934eb6",
   "metadata": {},
   "outputs": [
    {
     "name": "stdout",
     "output_type": "stream",
     "text": [
      "python is an \"awesome\" language.\n",
      "python\n",
      "\t2023\n",
      "I'm from Entri\n",
      "5\n",
      "e\n",
      "Entri\n",
      "2023\n",
      "Entr2023\n",
      "Entri*20"
     ]
    }
   ],
   "source": [
    "print(\"python is an \\\"awesome\\\" language.\")\n",
    "print(\"python\\n\\t2023\") # \\n is to go to the next line & \\t is for tab\n",
    "print('I\\'m from Entri.\\b') # \\b is the backspace\n",
    "print(\"\\65\")  # (ASCII value)\n",
    "print(\"\\x65\")  # (Hex value)\n",
    "print(\"Entri\", \"2023\", sep=\"\\n\")\n",
    "print(\"Entri\", \"2023\", sep=\"\\b\")  \n",
    "print(\"Entri\", \"2023\", sep=\"*\", end=\"\\b\\b\\b\\b\")\n"
   ]
  },
  {
   "cell_type": "markdown",
   "id": "87695341-28ba-4998-89d6-250897d923ed",
   "metadata": {},
   "source": [
    "## Excercise 7\n"
   ]
  },
  {
   "cell_type": "code",
   "execution_count": 80,
   "id": "45695dc4-bc7c-4f4f-865e-903308da7829",
   "metadata": {},
   "outputs": [
    {
     "name": "stdout",
     "output_type": "stream",
     "text": [
      "Datatype of 23 is :  <class 'int'>\n",
      "Datatype of \"57\" is :  <class 'str'>\n",
      "Datatype of 98.3 is :  <class 'float'>\n",
      "Sum: 178.3\n",
      "Datatype of Sum: <class 'float'>\n"
     ]
    }
   ],
   "source": [
    "num = 23\n",
    "textnum = \"57\"\n",
    "decimal = 98.3\n",
    "\n",
    "print(f\"Datatype of {num} is : \", type(num))\n",
    "print(f\"Datatype of \\\"{textnum}\\\" is : \",type(textnum))\n",
    "print(f\"Datatype of {decimal} is : \",type(decimal))\n",
    "\n",
    "# Convert datatype and calculate the sum\n",
    "\n",
    "sum_value = num + int(textnum) + decimal\n",
    "print(\"Sum:\", sum_value)\n",
    "print(\"Datatype of Sum:\", type(sum_value))\n"
   ]
  },
  {
   "cell_type": "markdown",
   "id": "1833ad67-d074-408b-afef-a07fa7ba6a0a",
   "metadata": {},
   "source": [
    "## Excercise 8"
   ]
  },
  {
   "cell_type": "code",
   "execution_count": 93,
   "id": "383ec7b8-d47f-4c66-8a02-fd487648eab4",
   "metadata": {},
   "outputs": [
    {
     "name": "stdout",
     "output_type": "stream",
     "text": [
      "This program calculates the total number of minutes in a year by multiplying totaL no. of days in year with hours in a day and minutes in an hour.\n",
      "Total minutes in a year: 525600\n"
     ]
    }
   ],
   "source": [
    "total_days_in_year = 365\n",
    "minutes_in_hour = 60\n",
    "hours_in_day = 24\n",
    "\n",
    "total_minutes = total_days_in_year * hours_in_day * minutes_in_hour\n",
    "print(f\"This program calculates the total number of minutes in a year by multiplying totaL no. of days in year with hours in a day and minutes in an hour.\")\n",
    "print(f\"Total minutes in a year: {total_minutes}\")\n"
   ]
  },
  {
   "cell_type": "markdown",
   "id": "8b790d19-425e-4bc7-820e-d40bd7c250f7",
   "metadata": {},
   "source": [
    "## Excercise 9"
   ]
  },
  {
   "cell_type": "code",
   "execution_count": 99,
   "id": "25f49c01-b820-4ee1-9cb2-8e5f0c46931b",
   "metadata": {},
   "outputs": [
    {
     "name": "stdin",
     "output_type": "stream",
     "text": [
      "Enter Your Name :  Anusree\n"
     ]
    },
    {
     "name": "stdout",
     "output_type": "stream",
     "text": [
      "Hello! Anusree, \n",
      "Welcome to Python Programming.\n"
     ]
    }
   ],
   "source": [
    "name = input(\"Enter Your Name : \")\n",
    "print(f\"Hello! {name}, \\nWelcome to Python Programming.\")"
   ]
  },
  {
   "cell_type": "markdown",
   "id": "2c9eb781-25ef-4c23-8081-4a43ecf6793b",
   "metadata": {},
   "source": [
    "## Excercise 10 "
   ]
  },
  {
   "cell_type": "code",
   "execution_count": 142,
   "id": "3212587d-e9af-49f0-a205-587f9cc35dbf",
   "metadata": {},
   "outputs": [
    {
     "name": "stdin",
     "output_type": "stream",
     "text": [
      "Please enter the amount in pounds:  50\n"
     ]
    },
    {
     "name": "stdout",
     "output_type": "stream",
     "text": [
      "£50.0 are $61.50\n"
     ]
    }
   ],
   "source": [
    "\n",
    "pounds = float(input(\"Please enter the amount in pounds: \"))\n",
    "conversion_rate = 1.23  # Pound to Dollar conversion rate\n",
    "dollars = pounds * conversion_rate\n",
    "print(f\"£{pounds} are ${dollars:.2f}\")\n"
   ]
  },
  {
   "cell_type": "code",
   "execution_count": null,
   "id": "a477d023-d8a5-4452-998e-43306a2bc5aa",
   "metadata": {},
   "outputs": [],
   "source": []
  }
 ],
 "metadata": {
  "kernelspec": {
   "display_name": "Python 3 (ipykernel)",
   "language": "python",
   "name": "python3"
  },
  "language_info": {
   "codemirror_mode": {
    "name": "ipython",
    "version": 3
   },
   "file_extension": ".py",
   "mimetype": "text/x-python",
   "name": "python",
   "nbconvert_exporter": "python",
   "pygments_lexer": "ipython3",
   "version": "3.12.4"
  }
 },
 "nbformat": 4,
 "nbformat_minor": 5
}
