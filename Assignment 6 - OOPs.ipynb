{
 "cells": [
  {
   "cell_type": "markdown",
   "id": "5d4c3114-50ff-4798-917e-8983499710b7",
   "metadata": {},
   "source": [
    "# 1.Course Catalog "
   ]
  },
  {
   "cell_type": "markdown",
   "id": "ae0d9d60-255e-4755-afe8-24a2920b588f",
   "metadata": {},
   "source": [
    "### Defining the base class Course "
   ]
  },
  {
   "cell_type": "code",
   "execution_count": 2,
   "id": "0c632dbe-7ac3-4c41-bf22-aaaaa6a76da0",
   "metadata": {},
   "outputs": [],
   "source": [
    "\n",
    "class Course:\n",
    "    def __init__(self, course_code, course_name, credit_hours):\n",
    "        self.course_code = course_code\n",
    "        self.course_name = course_name\n",
    "        self.credit_hours = credit_hours\n",
    "\n",
    "    def display_info(self):\n",
    "        return f\"{self.course_code}: {self.course_name} ({self.credit_hours} credit hours)\"\n",
    "\n",
    "\n",
    "\n"
   ]
  },
  {
   "cell_type": "markdown",
   "id": "b4f6ee88-4b01-47b1-b89d-f5f841fc7eb0",
   "metadata": {},
   "source": [
    "### Defining Subclasses: CoreCourse, ElectiveCourse"
   ]
  },
  {
   "cell_type": "code",
   "execution_count": 6,
   "id": "7d09044e-01de-4978-adfc-53cbc3f2fa7b",
   "metadata": {},
   "outputs": [],
   "source": [
    "class CoreCourse(Course):\n",
    "    def __init__(self, course_code, course_name, credit_hours, required_for_major):\n",
    "        super().__init__(course_code, course_name, credit_hours)\n",
    "        self.required_for_major = required_for_major\n",
    "\n",
    "    def display_info(self):\n",
    "        return super().display_info() + f\" - Required for major: {self.required_for_major}\"\n",
    "\n",
    "class ElectiveCourse(Course):\n",
    "    def __init__(self, course_code, course_name, credit_hours, elective_type):\n",
    "        super().__init__(course_code, course_name, credit_hours)\n",
    "        self.elective_type = elective_type\n",
    "\n",
    "    def display_info(self):\n",
    "        return super().display_info() + f\" - Elective Type: {self.elective_type}\"\n"
   ]
  },
  {
   "cell_type": "markdown",
   "id": "db859cab-9d39-4d22-a6c3-c3e0e2c1bb1b",
   "metadata": {},
   "source": [
    "### Creating the instances of courses"
   ]
  },
  {
   "cell_type": "code",
   "execution_count": 24,
   "id": "230a4daf-5fd0-4834-aec3-087b439c5aab",
   "metadata": {},
   "outputs": [],
   "source": [
    "core_course = CoreCourse(\"CS101\", \"Introduction to Computer Science\", 4, True)\n",
    "core_course2 = CoreCourse(\"CS102\", \"C Programming\", 3, False)\n",
    "elective_course = ElectiveCourse(\"HIST201\", \"World History\", 2, \"Liberal Arts\")\n",
    "elective_course2 = ElectiveCourse(\"OS101\", \"Operating Systems\", 4, \"Technical\")\n"
   ]
  },
  {
   "cell_type": "markdown",
   "id": "f45283ba-38e3-4674-a7f4-b26a1a5cc5d5",
   "metadata": {},
   "source": [
    "### Displaying Course Details"
   ]
  },
  {
   "cell_type": "code",
   "execution_count": 26,
   "id": "5c29b093-1378-4390-9c95-4d95036f74a2",
   "metadata": {},
   "outputs": [
    {
     "name": "stdout",
     "output_type": "stream",
     "text": [
      "CS101: Introduction to Computer Science (4 credit hours) - Required for major: True\n",
      "CS102: C Programming (3 credit hours) - Required for major: False\n",
      "HIST201: World History (2 credit hours) - Elective Type: Liberal Arts\n",
      "OS101: Operating Systems (4 credit hours) - Elective Type: Technical\n"
     ]
    }
   ],
   "source": [
    "print(core_course.display_info())\n",
    "print(core_course2.display_info())\n",
    "print(elective_course.display_info())\n",
    "print(elective_course2.display_info())"
   ]
  },
  {
   "cell_type": "markdown",
   "id": "e992679f-8525-404d-94cf-0a4b01416ff3",
   "metadata": {},
   "source": [
    "# 2. Employee Module"
   ]
  },
  {
   "cell_type": "markdown",
   "id": "ab641a54-3cb9-49f3-a7e4-603553ff13a6",
   "metadata": {},
   "source": [
    "### Importing the Employee module"
   ]
  },
  {
   "cell_type": "code",
   "execution_count": 46,
   "id": "c5871dfe-3810-431f-aca8-80316c09b6c5",
   "metadata": {},
   "outputs": [],
   "source": [
    "import employee_module"
   ]
  },
  {
   "cell_type": "markdown",
   "id": "518f0e7b-d3c8-49df-871c-db21fe4cbcb6",
   "metadata": {},
   "source": [
    "### employee_module.py content"
   ]
  },
  {
   "cell_type": "raw",
   "id": "c9db164b-634c-4d54-8a71-a97770b757c2",
   "metadata": {},
   "source": [
    "class Employee:\r\n",
    "    def __init__(self, name, salary):\r\n",
    "        self.name = name\r\n",
    "        self.salary = salary\r\n",
    "\r\n",
    "    def get_name(self):\r\n",
    "        return f\"Employee Name is : {self.name}\"\r\n",
    "\r\n",
    "    def get_salary(self):\r\n",
    "        return f\" {self.name} draws a salary of  : {self.salary}\""
   ]
  },
  {
   "cell_type": "markdown",
   "id": "1ae8a861-5916-4b46-9ea4-4c3494e5723a",
   "metadata": {},
   "source": [
    "### Creating instances and calling the defined functions in Employee class"
   ]
  },
  {
   "cell_type": "code",
   "execution_count": 48,
   "id": "45808591-db0b-4c0e-bcf7-5bba4fd62bcf",
   "metadata": {},
   "outputs": [
    {
     "name": "stdout",
     "output_type": "stream",
     "text": [
      "Employee Name: Employee Name is : Anusree\n",
      "Employee Salary:  Anusree draws a salary of  : 50000\n"
     ]
    }
   ],
   "source": [
    "    emp = Employee(\"Anusree\", 50000)\n",
    "    print(\"Employee Name:\", emp.get_name())\n",
    "    print(\"Employee Salary:\", emp.get_salary())\n"
   ]
  },
  {
   "cell_type": "code",
   "execution_count": null,
   "id": "1a6964d9-53f4-42dd-bc32-efa99e74048b",
   "metadata": {},
   "outputs": [],
   "source": []
  }
 ],
 "metadata": {
  "kernelspec": {
   "display_name": "Python 3 (ipykernel)",
   "language": "python",
   "name": "python3"
  },
  "language_info": {
   "codemirror_mode": {
    "name": "ipython",
    "version": 3
   },
   "file_extension": ".py",
   "mimetype": "text/x-python",
   "name": "python",
   "nbconvert_exporter": "python",
   "pygments_lexer": "ipython3",
   "version": "3.12.4"
  }
 },
 "nbformat": 4,
 "nbformat_minor": 5
}
