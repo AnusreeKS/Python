{
 "cells": [
  {
   "cell_type": "markdown",
   "id": "c8110bb2-c572-4dbc-bf60-562b6f933a65",
   "metadata": {},
   "source": [
    "# Datastructures"
   ]
  },
  {
   "cell_type": "markdown",
   "id": "ab98eafa-641a-420a-82a8-09ae74e3a1bd",
   "metadata": {},
   "source": [
    "##  List Excercises\n",
    "### Excercise 1 "
   ]
  },
  {
   "cell_type": "code",
   "execution_count": 5,
   "id": "b821593a-ef0a-43f5-9257-d7194754fd37",
   "metadata": {},
   "outputs": [
    {
     "name": "stdout",
     "output_type": "stream",
     "text": [
      "['Anusree', 32, 'ksanusree92@gmail.com', 'Palakkad']\n"
     ]
    }
   ],
   "source": [
    "list=[\"Anusree\", 32,\"ksanusree92@gmail.com\",\"Palakkad\"]\n",
    "print(list)"
   ]
  },
  {
   "cell_type": "code",
   "execution_count": 36,
   "id": "696e7520-7fd1-4a37-be6b-b405aeb324f5",
   "metadata": {},
   "outputs": [
    {
     "name": "stdout",
     "output_type": "stream",
     "text": [
      "The list of 5 random numbers is : [37, 32, 7, 4, 75]\n"
     ]
    }
   ],
   "source": [
    "list_num=[37,32,7,4,75]\n",
    "print(\"The list of 5 random numbers is :\",list_num)"
   ]
  },
  {
   "cell_type": "markdown",
   "id": "6f73a6ab-551e-454d-a8c5-178a5ff4b40a",
   "metadata": {},
   "source": [
    "### Excercise 2"
   ]
  },
  {
   "cell_type": "code",
   "execution_count": 38,
   "id": "2467a89a-76b3-4053-8c7d-62ec8ee4e995",
   "metadata": {},
   "outputs": [
    {
     "name": "stdout",
     "output_type": "stream",
     "text": [
      "The updated list is : [37, 32, 7, 4, 75, 28, 35, 36]\n"
     ]
    }
   ],
   "source": [
    "list_num.extend([28,35,36])   # extend fn to add more than 1 items to the list\n",
    "print(\"The updated list is :\",list_num)"
   ]
  },
  {
   "cell_type": "markdown",
   "id": "be9bb925-7658-488d-b387-a47174fd4405",
   "metadata": {},
   "source": [
    "### Excercise 3"
   ]
  },
  {
   "cell_type": "code",
   "execution_count": 52,
   "id": "3c7da4f7-18c6-4d40-b7cd-8f15b6620e76",
   "metadata": {},
   "outputs": [
    {
     "name": "stdout",
     "output_type": "stream",
     "text": [
      "The items of the list are : \n",
      "37\n",
      "32\n",
      "7\n",
      "4\n",
      "75\n",
      "28\n",
      "35\n",
      "36\n"
     ]
    }
   ],
   "source": [
    "print(\"The items of the list are : \")\n",
    "for items in list_num :\n",
    "    print(items)"
   ]
  },
  {
   "cell_type": "markdown",
   "id": "2518c74d-04c0-4846-bc7a-283d53941933",
   "metadata": {},
   "source": [
    "## Dictionary Excercises\n",
    "### Excercise 1"
   ]
  },
  {
   "cell_type": "code",
   "execution_count": 69,
   "id": "3b3ed1bd-2989-4637-8765-aacfc46827bf",
   "metadata": {},
   "outputs": [
    {
     "name": "stdout",
     "output_type": "stream",
     "text": [
      "The personal details in the dictionary form is :  {'Name': 'John', 'Age': 25, 'Address': 'Newyork', 'Phone': 1234567890}\n"
     ]
    }
   ],
   "source": [
    "details = {\"Name\":\"John\", \"Age\":25, \"Address\":\"Newyork\"}\n",
    "print(\"The personal details in the dictionary form is : \",details)"
   ]
  },
  {
   "cell_type": "markdown",
   "id": "ef94842b-eade-421c-822e-6c7f1bd43edc",
   "metadata": {},
   "source": [
    "### Excercise 2"
   ]
  },
  {
   "cell_type": "code",
   "execution_count": 71,
   "id": "d56a22c7-088e-4689-b2fe-6a5d7233d8b4",
   "metadata": {},
   "outputs": [
    {
     "name": "stdout",
     "output_type": "stream",
     "text": [
      "The updated dictionary is : {'Name': 'John', 'Age': 25, 'Address': 'Newyork', 'Phone': 1234567890}\n"
     ]
    }
   ],
   "source": [
    "details[\"Phone\"]=1234567890\n",
    "print(\"The updated dictionary is :\",details)"
   ]
  },
  {
   "cell_type": "markdown",
   "id": "4bd924ba-4399-4696-8561-0a1bc0631b5f",
   "metadata": {},
   "source": [
    "## Set Excercises\n",
    "### Excercise 1"
   ]
  },
  {
   "cell_type": "code",
   "execution_count": 91,
   "id": "334c340a-ca53-4ea9-b407-5ef3e9f2938b",
   "metadata": {},
   "outputs": [
    {
     "name": "stdout",
     "output_type": "stream",
     "text": [
      "The original set is : {1, 2, 3, 4, 5}\n"
     ]
    }
   ],
   "source": [
    "set1={1,2,3,4,5}\n",
    "print(\"The original set is :\",set1)"
   ]
  },
  {
   "cell_type": "markdown",
   "id": "edd918d5-7d99-4c83-abfb-87f83585e2ae",
   "metadata": {},
   "source": [
    "### Excercise 2"
   ]
  },
  {
   "cell_type": "code",
   "execution_count": 93,
   "id": "8026359f-0745-4c4e-87b6-ebb5b9cab8f6",
   "metadata": {},
   "outputs": [
    {
     "name": "stdout",
     "output_type": "stream",
     "text": [
      "{1, 2, 3, 4, 5, 6}\n"
     ]
    }
   ],
   "source": [
    "set1.add(6)\n",
    "print(set1)"
   ]
  },
  {
   "cell_type": "markdown",
   "id": "3d4ac87d-8a14-4bd4-bece-052bc8933c18",
   "metadata": {},
   "source": [
    "### Excercise 3"
   ]
  },
  {
   "cell_type": "code",
   "execution_count": 95,
   "id": "a5637d06-39a9-42fb-86d4-af4b5bac5693",
   "metadata": {},
   "outputs": [
    {
     "name": "stdout",
     "output_type": "stream",
     "text": [
      "The set before removing the value 3 is :  {1, 2, 3, 4, 5, 6}\n",
      "The set after removing value 3 is : {1, 2, 4, 5, 6}\n"
     ]
    }
   ],
   "source": [
    "print(\"The set before removing the value 3 is : \",set1)\n",
    "set1.discard(3)\n",
    "print(\"The set after removing value 3 is :\",set1)"
   ]
  },
  {
   "cell_type": "markdown",
   "id": "69314f91-a121-4489-9d50-57999e0d0f96",
   "metadata": {},
   "source": [
    "## Tuple Excercises\n",
    "### Excercise 1"
   ]
  },
  {
   "cell_type": "code",
   "execution_count": 98,
   "id": "d4bc7ffa-08d6-4df2-9148-45c4e15cebbb",
   "metadata": {},
   "outputs": [
    {
     "name": "stdout",
     "output_type": "stream",
     "text": [
      "The tuple is : (1, 2, 3, 4)\n"
     ]
    }
   ],
   "source": [
    "tup1=(1,2,3,4)\n",
    "print(\"The tuple is :\",tup1)"
   ]
  },
  {
   "cell_type": "markdown",
   "id": "837a8ac7-7c1a-4c2a-8532-551074b0442f",
   "metadata": {},
   "source": [
    "### Excercise 2"
   ]
  },
  {
   "cell_type": "code",
   "execution_count": 103,
   "id": "732c04ac-9e2b-4777-a37a-2adcbad0a641",
   "metadata": {},
   "outputs": [
    {
     "name": "stdout",
     "output_type": "stream",
     "text": [
      "The length of the tuple is :  4\n"
     ]
    }
   ],
   "source": [
    "print(\"The length of the tuple is : \", len(tup1))"
   ]
  },
  {
   "cell_type": "code",
   "execution_count": null,
   "id": "cdc10735-3f07-434b-8da3-d839735325ee",
   "metadata": {},
   "outputs": [],
   "source": []
  }
 ],
 "metadata": {
  "kernelspec": {
   "display_name": "Python 3 (ipykernel)",
   "language": "python",
   "name": "python3"
  },
  "language_info": {
   "codemirror_mode": {
    "name": "ipython",
    "version": 3
   },
   "file_extension": ".py",
   "mimetype": "text/x-python",
   "name": "python",
   "nbconvert_exporter": "python",
   "pygments_lexer": "ipython3",
   "version": "3.12.4"
  }
 },
 "nbformat": 4,
 "nbformat_minor": 5
}
