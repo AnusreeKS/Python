{
 "cells": [
  {
   "cell_type": "markdown",
   "id": "662f54a4-08b1-4718-85f0-9ef6118e535c",
   "metadata": {},
   "source": [
    "# Assignment 5 - Exception Handling"
   ]
  },
  {
   "cell_type": "markdown",
   "id": "d30bed15-2688-4785-bd1d-06f57700803f",
   "metadata": {},
   "source": [
    "### 1: Read a file and display its contents"
   ]
  },
  {
   "cell_type": "code",
   "execution_count": 78,
   "id": "e723337d-cdc2-4556-bcd4-8eecb9455de8",
   "metadata": {},
   "outputs": [],
   "source": [
    "def read_file(filename):\n",
    "    try:\n",
    "        with open(filename, 'r') as file:\n",
    "            content = file.read()\n",
    "            print(content)\n",
    "            print()\n",
    "    except FileNotFoundError:\n",
    "        print(\"File not found.\")\n"
   ]
  },
  {
   "cell_type": "code",
   "execution_count": 80,
   "id": "c80bb717-51c0-43e8-82d9-c60ea989b055",
   "metadata": {},
   "outputs": [
    {
     "name": "stdout",
     "output_type": "stream",
     "text": [
      "Hi, \n",
      "This is a sample file to read for Assignment 5 in Python\n",
      "\n"
     ]
    }
   ],
   "source": [
    "read_file('C:\\\\Users\\\\LENOVO\\\\DSnML\\\\sample.txt')"
   ]
  },
  {
   "cell_type": "markdown",
   "id": "11b9cbeb-ac1c-4d9a-adcc-9ec4f4414371",
   "metadata": {},
   "source": [
    "### 2:Copy contents of one file to another"
   ]
  },
  {
   "cell_type": "code",
   "execution_count": 58,
   "id": "533a4796-df44-4e61-b7bf-0456ef15fd0a",
   "metadata": {},
   "outputs": [],
   "source": [
    "def copy_file(source, destination):\n",
    "    try:\n",
    "        with open(source, 'r') as src, open(destination, 'w') as dest:\n",
    "            dest.write(src.read())\n",
    "    except FileNotFoundError:\n",
    "        print(\"Source file not found.\")\n"
   ]
  },
  {
   "cell_type": "code",
   "execution_count": 86,
   "id": "b54cfc35-ed2a-4308-bf20-6695a6cedd47",
   "metadata": {},
   "outputs": [
    {
     "name": "stdout",
     "output_type": "stream",
     "text": [
      "The source file content is :\n",
      "Hi, \n",
      "This is a sample file to read for Assignment 5 in Python\n",
      "\n",
      "The destination file content is:\n",
      "\n",
      "\n",
      "The content of the destination file after copying is :\n",
      "Hi, \n",
      "This is a sample file to read for Assignment 5 in Python\n",
      "\n"
     ]
    }
   ],
   "source": [
    "print(\"The source file content is :\")\n",
    "read_file('C:\\\\Users\\\\LENOVO\\\\DSnML\\\\sample.txt')\n",
    "print(\"The destination file content is:\")\n",
    "read_file('C:\\\\Users\\\\LENOVO\\\\DSnML\\\\sample2.txt')\n",
    "copy_file('C:\\\\Users\\\\LENOVO\\\\DSnML\\\\sample.txt','C:\\\\Users\\\\LENOVO\\\\DSnML\\\\sample2.txt')\n",
    "print(\"The content of the destination file after copying is :\")\n",
    "read_file('C:\\\\Users\\\\LENOVO\\\\DSnML\\\\sample2.txt')"
   ]
  },
  {
   "cell_type": "markdown",
   "id": "99c836c4-41bd-4168-9ee5-8f72176bf354",
   "metadata": {},
   "source": [
    "### 3: Count total number of words in a file"
   ]
  },
  {
   "cell_type": "code",
   "execution_count": 108,
   "id": "8bd82db3-057f-4f8b-bb26-25a109978574",
   "metadata": {},
   "outputs": [],
   "source": [
    "def count_words(filename):\n",
    "    try :\n",
    "        with open(filename,\"r\") as file :\n",
    "            content=file.read()\n",
    "            word=content.split()\n",
    "            print (f\"Total number of words in file: {filename} is :\\n {len(word)}\")\n",
    "    except FileNotFoundError :\n",
    "        print(f\" No file named :{filename} Exists!!!\")"
   ]
  },
  {
   "cell_type": "code",
   "execution_count": 112,
   "id": "0a0c2c8f-4a5e-41a0-9c15-d5a6f1bbfa10",
   "metadata": {},
   "outputs": [
    {
     "name": "stdout",
     "output_type": "stream",
     "text": [
      "Total number of words in file: C:\\Users\\LENOVO\\DSnML\\sample2.txt is :\n",
      " 13\n"
     ]
    }
   ],
   "source": [
    "count_words('C:\\\\Users\\\\LENOVO\\\\DSnML\\\\sample2.txt')"
   ]
  },
  {
   "cell_type": "markdown",
   "id": "af6dc7d6-f19e-4a99-8f2d-e5c1f5a37a6d",
   "metadata": {},
   "source": [
    "### 4: Convert input string to an integer with exception handling"
   ]
  },
  {
   "cell_type": "code",
   "execution_count": 121,
   "id": "e6bed654-30f9-4c0d-95c5-ab3e1ed67cc3",
   "metadata": {},
   "outputs": [],
   "source": [
    "def convert_to_int():\n",
    "    try :\n",
    "        num=int(input(\"Enter an integer :\"))\n",
    "        print(\"The entered integer is :\",num)\n",
    "        \n",
    "    except ValueError :\n",
    "        print(\" Enter a valid integer !!!\")\n",
    "    "
   ]
  },
  {
   "cell_type": "code",
   "execution_count": 127,
   "id": "a7a1ac28-e931-4c5c-ad6b-a7611deda8e5",
   "metadata": {},
   "outputs": [
    {
     "name": "stdin",
     "output_type": "stream",
     "text": [
      "Enter an integer : -45\n"
     ]
    },
    {
     "name": "stdout",
     "output_type": "stream",
     "text": [
      "The entered integer is : -45\n"
     ]
    }
   ],
   "source": [
    "convert_to_int()"
   ]
  },
  {
   "cell_type": "code",
   "execution_count": 129,
   "id": "f7ee040b-76e4-4c22-b369-94bf1eb48cab",
   "metadata": {},
   "outputs": [
    {
     "name": "stdin",
     "output_type": "stream",
     "text": [
      "Enter an integer : anu\n"
     ]
    },
    {
     "name": "stdout",
     "output_type": "stream",
     "text": [
      " Enter a valid integer !!!\n"
     ]
    }
   ],
   "source": [
    "convert_to_int()"
   ]
  },
  {
   "cell_type": "markdown",
   "id": "3fc92263-49ab-4bcc-9081-35d365dff562",
   "metadata": {},
   "source": [
    "### 5: Check for negative numbers in a list of integers"
   ]
  },
  {
   "cell_type": "code",
   "execution_count": 141,
   "id": "5c0427c9-ace7-4556-b076-c28493646453",
   "metadata": {},
   "outputs": [],
   "source": [
    "def check_negative():\n",
    "    try:\n",
    "        numbers = list(map(int, input(\"Enter a list of integers separated by spaces: \").split())) # converts the input to a list of integers\n",
    "        has_negative = False                                                                      # Flag variable\n",
    "\n",
    "        for num in numbers:\n",
    "            if num < 0:\n",
    "                has_negative = True\n",
    "                break                                                                             # Stop the loop once a negative number is found\n",
    "\n",
    "        if has_negative:\n",
    "            raise ValueError(\"Negative numbers are not allowed.\")\n",
    "        else:\n",
    "            print(\"All integers are positive.\")\n",
    "            print(\"The list of integers is :\", numbers)\n",
    "    except ValueError as e:                                                                       # runs when someone tries to input anything other than integers\n",
    "        print(\"Error:\", e)"
   ]
  },
  {
   "cell_type": "code",
   "execution_count": 153,
   "id": "7702b241-d015-4236-a3f7-37329c6bf845",
   "metadata": {},
   "outputs": [
    {
     "name": "stdin",
     "output_type": "stream",
     "text": [
      "Enter a list of integers separated by spaces:  234 56 768 23 0 \n"
     ]
    },
    {
     "name": "stdout",
     "output_type": "stream",
     "text": [
      "All integers are positive.\n",
      "The list of integers is : [234, 56, 768, 23, 0]\n"
     ]
    }
   ],
   "source": [
    "check_negative()"
   ]
  },
  {
   "cell_type": "code",
   "execution_count": 155,
   "id": "09918ebc-9742-436f-8adb-c7fda6423fa3",
   "metadata": {},
   "outputs": [
    {
     "name": "stdin",
     "output_type": "stream",
     "text": [
      "Enter a list of integers separated by spaces:  45 67 -34 78 -65\n"
     ]
    },
    {
     "name": "stdout",
     "output_type": "stream",
     "text": [
      "Error: Negative numbers are not allowed.\n"
     ]
    }
   ],
   "source": [
    "check_negative()"
   ]
  },
  {
   "cell_type": "markdown",
   "id": "8db9e3d0-59d1-465c-8ca3-189e7dd88451",
   "metadata": {},
   "source": [
    "### 6: Compute average with exception handling"
   ]
  },
  {
   "cell_type": "code",
   "execution_count": 57,
   "id": "388b4313-efbe-4c2b-b000-8b6789e171ee",
   "metadata": {},
   "outputs": [],
   "source": [
    "def calculate_avg():\n",
    "    try:\n",
    "        numbers = list(map(float,input(\"Enter a list of integers separated by spaces: \").split()))\n",
    "        avg=sum(numbers)/len(numbers)\n",
    "        print(f\"The average of numbers {numbers} is  :{avg}\")\n",
    "        \n",
    "    except ZeroDivisionError:\n",
    "        print(\"Error: Cannot compute average of an empty list.\")\n",
    "        \n",
    "    except ValueError:                                                                       # runs when someone tries to input anything other than integers\n",
    "        print(\"Enter only numbers!!!\") \n",
    "\n",
    "    finally:\n",
    "        print(\"Program execution finished.\")\n",
    "\n",
    "            \n",
    "            "
   ]
  },
  {
   "cell_type": "code",
   "execution_count": 59,
   "id": "38e2eb94-b062-4e85-9122-268596441bf2",
   "metadata": {},
   "outputs": [
    {
     "name": "stdin",
     "output_type": "stream",
     "text": [
      "Enter a list of integers separated by spaces:  44 67.3 56.9 23.6 35\n"
     ]
    },
    {
     "name": "stdout",
     "output_type": "stream",
     "text": [
      "The average of numbers [44.0, 67.3, 56.9, 23.6, 35.0] is  :45.36\n",
      "Program execution finished.\n"
     ]
    }
   ],
   "source": [
    "calculate_avg()"
   ]
  },
  {
   "cell_type": "code",
   "execution_count": 61,
   "id": "82d813df-f94a-45dd-9312-aa66028bd6a8",
   "metadata": {},
   "outputs": [
    {
     "name": "stdin",
     "output_type": "stream",
     "text": [
      "Enter a list of integers separated by spaces:  \n"
     ]
    },
    {
     "name": "stdout",
     "output_type": "stream",
     "text": [
      "Error: Cannot compute average of an empty list.\n",
      "Program execution finished.\n"
     ]
    }
   ],
   "source": [
    "calculate_avg()"
   ]
  },
  {
   "cell_type": "code",
   "execution_count": 63,
   "id": "3ee72de7-61f8-493e-9129-8dffd7541f27",
   "metadata": {},
   "outputs": [
    {
     "name": "stdin",
     "output_type": "stream",
     "text": [
      "Enter a list of integers separated by spaces:  45 25 Alice\n"
     ]
    },
    {
     "name": "stdout",
     "output_type": "stream",
     "text": [
      "Enter only numbers!!!\n",
      "Program execution finished.\n"
     ]
    }
   ],
   "source": [
    "calculate_avg()"
   ]
  },
  {
   "cell_type": "markdown",
   "id": "81bd2036-cb51-484a-81c6-b6803cd52128",
   "metadata": {},
   "source": [
    "### 7: Write a string to a file with exception handling"
   ]
  },
  {
   "cell_type": "code",
   "execution_count": 76,
   "id": "3d8eb8f4-e1bb-47cd-9411-76eb8330c02d",
   "metadata": {},
   "outputs": [],
   "source": [
    "def write_to_file():\n",
    "    try:\n",
    "        filename = input(\"Enter the filename: \")\n",
    "        content = input(\"Enter the string you want to write in the file: \")\n",
    "        with open(filename, 'w') as file:\n",
    "            file.write(content)\n",
    "        print(\"String written successfully!!\")\n",
    "        print(\"And the file content is :\")\n",
    "        with open(filename, 'r') as file:\n",
    "            content=file.read()\n",
    "            print(content)\n",
    "    except Exception as e:\n",
    "        print(\"An error occurred:\", e)\n"
   ]
  },
  {
   "cell_type": "code",
   "execution_count": 86,
   "id": "a3558dc9-b790-4afc-9fee-591eababe67e",
   "metadata": {},
   "outputs": [
    {
     "name": "stdin",
     "output_type": "stream",
     "text": [
      "Enter the filename:  Demo\n",
      "Enter the string you want to write in the file:  This is a demo file to create a file and write a string in it!! \n"
     ]
    },
    {
     "name": "stdout",
     "output_type": "stream",
     "text": [
      "String written successfully!!\n",
      "And the file content is :\n",
      "This is a demo file to create a file and write a string in it!! \n"
     ]
    }
   ],
   "source": [
    "write_to_file()"
   ]
  },
  {
   "cell_type": "code",
   "execution_count": 88,
   "id": "8355c3d1-50ed-4daa-a5cc-c5924ff28f69",
   "metadata": {},
   "outputs": [
    {
     "name": "stdin",
     "output_type": "stream",
     "text": [
      "Enter the filename:  \n",
      "Enter the string you want to write in the file:  \n"
     ]
    },
    {
     "name": "stdout",
     "output_type": "stream",
     "text": [
      "An error occurred: [Errno 2] No such file or directory: ''\n"
     ]
    }
   ],
   "source": [
    "write_to_file()\n"
   ]
  },
  {
   "cell_type": "code",
   "execution_count": null,
   "id": "0a5927e2-9367-4c01-ae3f-6c282f7e06a5",
   "metadata": {},
   "outputs": [],
   "source": [
    "\n"
   ]
  }
 ],
 "metadata": {
  "kernelspec": {
   "display_name": "Python 3 (ipykernel)",
   "language": "python",
   "name": "python3"
  },
  "language_info": {
   "codemirror_mode": {
    "name": "ipython",
    "version": 3
   },
   "file_extension": ".py",
   "mimetype": "text/x-python",
   "name": "python",
   "nbconvert_exporter": "python",
   "pygments_lexer": "ipython3",
   "version": "3.12.4"
  }
 },
 "nbformat": 4,
 "nbformat_minor": 5
}
