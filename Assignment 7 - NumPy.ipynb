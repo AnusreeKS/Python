{
 "cells": [
  {
   "cell_type": "code",
   "execution_count": 1,
   "id": "ca2d37f9-522a-438b-8e75-af796ee6084c",
   "metadata": {},
   "outputs": [],
   "source": [
    "import numpy as np\n",
    "import pandas as pd"
   ]
  },
  {
   "cell_type": "markdown",
   "id": "6aa49445-05e7-495d-9e2e-11bf50f03597",
   "metadata": {},
   "source": [
    "## Exercise 1: Create and reshape a numpy array"
   ]
  },
  {
   "cell_type": "code",
   "execution_count": 10,
   "id": "d6bb3afb-10d1-42b2-be22-2eefca64f4c6",
   "metadata": {},
   "outputs": [
    {
     "name": "stdout",
     "output_type": "stream",
     "text": [
      "The array created is :  [ 1  2  3  4  5  6  7  8  9 10]\n",
      "Reshaped Array is :\n",
      "[[ 1  2  3  4  5]\n",
      " [ 6  7  8  9 10]]\n"
     ]
    }
   ],
   "source": [
    "arr1 = np.arange(1, 11)\n",
    "print(\"The array created is : \",arr1)\n",
    "arr1=arr1.reshape(2, 5)\n",
    "print(\"Reshaped Array is :\")\n",
    "print(arr1)"
   ]
  },
  {
   "cell_type": "markdown",
   "id": "c9372c22-c70e-4e7c-a2dd-359aab742ffb",
   "metadata": {},
   "source": [
    "## Exercise 2: Extract elements between the 5th and 15th index"
   ]
  },
  {
   "cell_type": "code",
   "execution_count": 13,
   "id": "09fb60ee-4f83-4247-bea1-1957fc548294",
   "metadata": {},
   "outputs": [
    {
     "name": "stdout",
     "output_type": "stream",
     "text": [
      "The extracted elements are:\n",
      "[ 6  7  8  9 10 11 12 13 14 15 16]\n"
     ]
    }
   ],
   "source": [
    "arr2 = np.arange(1, 21)\n",
    "extracted_elements = arr2[5:16]\n",
    "print(\"The extracted elements are:\")\n",
    "print(extracted_elements)"
   ]
  },
  {
   "cell_type": "markdown",
   "id": "1bbbc4d5-410d-4516-9124-031777e2dd6e",
   "metadata": {},
   "source": [
    "## Exercise 3: Create a Pandas series and add a new item"
   ]
  },
  {
   "cell_type": "code",
   "execution_count": 18,
   "id": "8da6e05d-7188-423d-8ef5-449a7ae34d52",
   "metadata": {},
   "outputs": [
    {
     "name": "stdout",
     "output_type": "stream",
     "text": [
      "The panda seires is :\n",
      " apples     3\n",
      "bananas    2\n",
      "oranges    1\n",
      "dtype: int64\n",
      "\n",
      " The new updated pandas series is :\n",
      "apples     3\n",
      "bananas    2\n",
      "oranges    1\n",
      "pears      4\n",
      "dtype: int64\n"
     ]
    }
   ],
   "source": [
    "data = {'apples': 3, 'bananas': 2, 'oranges': 1}\n",
    "series = pd.Series(data)\n",
    "print(\"The panda seires is :\\n\",series)\n",
    "series['pears'] = 4\n",
    "print(\"\\n The new updated pandas series is :\")\n",
    "print(series)"
   ]
  },
  {
   "cell_type": "markdown",
   "id": "fef415bb-8f78-484e-84d0-12d5126123c0",
   "metadata": {},
   "source": [
    "## Exercise 4: Create a DataFrame with name, age, and gender columns"
   ]
  },
  {
   "cell_type": "code",
   "execution_count": 25,
   "id": "0f1cf54c-d8ad-4e16-afff-67a9f5e5b3c1",
   "metadata": {},
   "outputs": [
    {
     "name": "stdout",
     "output_type": "stream",
     "text": [
      "\n",
      " The created dataframe is:\n",
      "\n",
      "      Name  Age Gender\n",
      "0    Alice   25      F\n",
      "1      Bob   32      M\n",
      "2  Charlie   40      M\n",
      "3    David   29      M\n",
      "4      Eva   35      F\n",
      "5  Francis   41      M\n",
      "6    Grace   27      F\n",
      "7   Hannah   30      F\n",
      "8    Issac   22      M\n",
      "9     Jack   45      M\n"
     ]
    }
   ],
   "source": [
    "data = {\n",
    "    'Name': ['Alice', 'Bob', 'Charlie', 'David', 'Eva', 'Francis', 'Grace', 'Hannah', 'Issac', 'Jack'],\n",
    "    'Age': [25, 32, 40, 29, 35, 41, 27, 30, 22, 45],\n",
    "    'Gender': ['F', 'M', 'M', 'M', 'F', 'M', 'F', 'F', 'M', 'M']\n",
    "}\n",
    "df = pd.DataFrame(data)\n",
    "print(\"\\n The created dataframe is:\\n\")\n",
    "print(df)"
   ]
  },
  {
   "cell_type": "markdown",
   "id": "15efb7dc-3bcc-4744-9840-55405b3cc840",
   "metadata": {},
   "source": [
    "##  Exercise 5: Add a new column 'occupation'"
   ]
  },
  {
   "cell_type": "code",
   "execution_count": 30,
   "id": "4630c706-ba4f-4350-8314-699d801948ce",
   "metadata": {},
   "outputs": [
    {
     "name": "stdout",
     "output_type": "stream",
     "text": [
      "\n",
      " The updated dataframe is :\n",
      "\n",
      "      Name  Age Gender  occupation  Occupation\n",
      "0    Alice   25      F  Programmer  Programmer\n",
      "1      Bob   32      M     Manager     Manager\n",
      "2  Charlie   40      M     Analyst     Analyst\n",
      "3    David   29      M  Programmer  Programmer\n",
      "4      Eva   35      F     Manager     Manager\n",
      "5  Francis   41      M     Analyst     Analyst\n",
      "6    Grace   27      F  Programmer  Programmer\n",
      "7   Hannah   30      F     Manager     Manager\n",
      "8    Issac   22      M     Analyst     Analyst\n",
      "9     Jack   45      M  Programmer  Programmer\n"
     ]
    }
   ],
   "source": [
    "occupations = ['Programmer', 'Manager', 'Analyst', 'Programmer', 'Manager', 'Analyst', 'Programmer', 'Manager', 'Analyst', 'Programmer']\n",
    "df['Occupation'] = occupations\n",
    "print(\"\\n The updated dataframe is :\\n\")\n",
    "print(df)"
   ]
  },
  {
   "cell_type": "markdown",
   "id": "c3d0891d-6cdf-49ad-ac4b-9b52a3cf933a",
   "metadata": {},
   "source": [
    "## Exercise 6: Select rows where age >= 30"
   ]
  },
  {
   "cell_type": "code",
   "execution_count": 35,
   "id": "568a1d8f-4911-4395-a9e2-33c18655ae6c",
   "metadata": {},
   "outputs": [
    {
     "name": "stdout",
     "output_type": "stream",
     "text": [
      "\n",
      " The dataframe after filtering rows with age >=30 is:\n",
      "\n",
      "      Name  Age Gender  occupation  Occupation\n",
      "1      Bob   32      M     Manager     Manager\n",
      "2  Charlie   40      M     Analyst     Analyst\n",
      "4      Eva   35      F     Manager     Manager\n",
      "5  Francis   41      M     Analyst     Analyst\n",
      "7   Hannah   30      F     Manager     Manager\n",
      "9     Jack   45      M  Programmer  Programmer\n"
     ]
    }
   ],
   "source": [
    "filtered_df = df[df['Age'] >= 30]\n",
    "print(\"\\n The dataframe after filtering rows with age >=30 is:\\n\")\n",
    "print(filtered_df)"
   ]
  },
  {
   "cell_type": "markdown",
   "id": "96e4d29f-f3aa-4365-8b02-3e448f5eac70",
   "metadata": {},
   "source": [
    "## Exercise 7: Convert to CSV and read it back"
   ]
  },
  {
   "cell_type": "code",
   "execution_count": 47,
   "id": "d1ce2b85-c6d8-46dd-b34f-b35728caa9a7",
   "metadata": {},
   "outputs": [
    {
     "name": "stdout",
     "output_type": "stream",
     "text": [
      "      Name  Age Gender  occupation  Occupation\n",
      "0    Alice   25      F  Programmer  Programmer\n",
      "1      Bob   32      M     Manager     Manager\n",
      "2  Charlie   40      M     Analyst     Analyst\n",
      "3    David   29      M  Programmer  Programmer\n",
      "4      Eva   35      F     Manager     Manager\n",
      "5  Francis   41      M     Analyst     Analyst\n",
      "6    Grace   27      F  Programmer  Programmer\n",
      "7   Hannah   30      F     Manager     Manager\n",
      "8    Issac   22      M     Analyst     Analyst\n",
      "9     Jack   45      M  Programmer  Programmer\n"
     ]
    }
   ],
   "source": [
    "df.to_csv(\"data.csv\", index=False)\n",
    "print(pd.read_csv(\"data.csv\"))\n"
   ]
  }
 ],
 "metadata": {
  "kernelspec": {
   "display_name": "Python 3 (ipykernel)",
   "language": "python",
   "name": "python3"
  },
  "language_info": {
   "codemirror_mode": {
    "name": "ipython",
    "version": 3
   },
   "file_extension": ".py",
   "mimetype": "text/x-python",
   "name": "python",
   "nbconvert_exporter": "python",
   "pygments_lexer": "ipython3",
   "version": "3.12.4"
  }
 },
 "nbformat": 4,
 "nbformat_minor": 5
}
